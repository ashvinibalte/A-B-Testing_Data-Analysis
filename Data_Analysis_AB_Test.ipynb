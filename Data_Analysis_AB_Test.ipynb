{
  "cells": [
    {
      "cell_type": "markdown",
      "source": [
        "## **Mini Assignment - A/B Testing**"
      ],
      "metadata": {
        "id": "ehKup6utRZKC"
      },
      "id": "ehKup6utRZKC"
    },
    {
      "cell_type": "markdown",
      "source": [
        "Use the following data collected in class to test whether the prices in the treatment group (B) are lower than the ones in the control group (A).\n",
        "\n",
        "**the current bid is not shown**\n",
        "\n",
        "group_a = [ 700, 800, 1010, 1500, 1600, 1299, 1000, 1000, 1399, 700, 1200,\n",
        "1050, 950, 450, 1350, 999, 900, 1507, 1099, 950, 1300, 950,\n",
        "1200, 850, 1700, 1199 ]\n",
        "\n",
        "**Treatment - the current bid $395 is shown**\n",
        "\n",
        "group_b = [ 500, 1000, 550, 1300, 2500, 1399, 1395, 500, 500, 400, 1399,\n",
        "650, 350, 400, 350, 617, 750, 450, 450, 350, 500, 1299, 1800,\n",
        "500, 395, 300, 1600 ]\n",
        "\n",
        "Print the p-value and compare it with the significant level of 0.05 to determine whether to reject or not the null hypothesis like in the last part of the code shown in the class (AB test.ipynb Download AB test.ipynb). Remember to set the alternative in ttest_ind to 'larger' as we want to test mean(A) > mean(B).\n",
        "\n",
        "Print the mean average of prices for group_a and group_b. Write a comment whether the anchoring bias works. In other words, does showing the current bid of $395 results in statistically significant lower offers in average for the laptop?\n",
        "\n",
        "Submit your Jupyter notebook."
      ],
      "metadata": {
        "id": "JxhDE2YtQ_0U"
      },
      "id": "JxhDE2YtQ_0U"
    },
    {
      "cell_type": "code",
      "execution_count": null,
      "id": "41d2c815-9dce-4e15-abb0-1c6b19274d05",
      "metadata": {
        "id": "41d2c815-9dce-4e15-abb0-1c6b19274d05"
      },
      "outputs": [],
      "source": [
        "import numpy as np\n",
        "import seaborn as sns\n",
        "import pandas as pd\n",
        "from statsmodels.stats.weightstats import ttest_ind"
      ]
    },
    {
      "cell_type": "code",
      "source": [
        "# Control - the current bid is not shown\n",
        "group_a = np.array([ 700, 800, 1010, 1500, 1600, 1299, 1000, 1000, 1399, 700, 1200,\n",
        "1050, 950, 450, 1350, 999, 900, 1507, 1099, 950, 1300, 950,\n",
        "1200, 850, 1700, 1199 ])\n",
        "\n",
        "# Treatment - the current bid $395 is shown\n",
        "group_b =  np.array([ 500, 1000, 550, 1300, 2500, 1399, 1395, 500, 500, 400, 1399,\n",
        "650, 350, 400, 350, 617, 750, 450, 450, 350, 500, 1299, 1800,\n",
        "500, 395, 300, 1600 ])"
      ],
      "metadata": {
        "id": "dUcppnC8RnPJ"
      },
      "id": "dUcppnC8RnPJ",
      "execution_count": null,
      "outputs": []
    },
    {
      "cell_type": "code",
      "execution_count": null,
      "id": "f7b63256-04bb-4421-a17e-09d15ca6ced0",
      "metadata": {
        "id": "f7b63256-04bb-4421-a17e-09d15ca6ced0"
      },
      "outputs": [],
      "source": [
        "# def get_users_time(no_users=10):\n",
        "\n",
        "#     # assume that control has in average 5 sec per page\n",
        "#     group_a = np.round(np.random(size=group_a))\n",
        "\n",
        "#     # assume that control has in average 6 sec per page\n",
        "#     group_b = np.round(np.random(size=group_b))\n",
        "\n",
        "#     return group_a, group_b"
      ]
    },
    {
      "cell_type": "code",
      "source": [
        "def get_users_time(no_users=53):\n",
        "\n",
        "    # assume that control has in average 5 sec per page\n",
        "    group_a = group_a\n",
        "\n",
        "    # assume that control has in average 6 sec per page\n",
        "    group_b = group_b\n",
        "    return group_a, group_b"
      ],
      "metadata": {
        "id": "WgljmmJEIYH-"
      },
      "id": "WgljmmJEIYH-",
      "execution_count": null,
      "outputs": []
    },
    {
      "cell_type": "code",
      "execution_count": null,
      "id": "79864cb2-a7ca-491f-a36e-4721558fb3f1",
      "metadata": {
        "id": "79864cb2-a7ca-491f-a36e-4721558fb3f1"
      },
      "outputs": [],
      "source": [
        "# set the seed to replicate the experiment\n",
        "# and show an lucky case\n",
        "np.random.seed(1000)\n",
        "eg_group_a, eg_group_b = group_a, group_b"
      ]
    },
    {
      "cell_type": "code",
      "execution_count": null,
      "id": "937637fe-cd46-49e9-bb11-e0206559d043",
      "metadata": {
        "colab": {
          "base_uri": "https://localhost:8080/"
        },
        "id": "937637fe-cd46-49e9-bb11-e0206559d043",
        "outputId": "8a6855cc-7d62-4432-85a3-a5c5fa76a767"
      },
      "outputs": [
        {
          "output_type": "stream",
          "name": "stdout",
          "text": [
            "A       :  [ 700  800 1010 1500 1600 1299 1000 1000 1399  700 1200 1050  950  450\n",
            " 1350  999  900 1507 1099  950 1300  950 1200  850 1700 1199]\n",
            "mean(A) :  1102.38\n",
            "B       :  [ 500 1000  550 1300 2500 1399 1395  500  500  400 1399  650  350  400\n",
            "  350  617  750  450  450  350  500 1299 1800  500  395  300 1600]\n",
            "mean(B) :  822.37\n"
          ]
        }
      ],
      "source": [
        "print('A       : ', eg_group_a)\n",
        "print('mean(A) : ', np.round(eg_group_a.mean(),2))\n",
        "print('B       : ', eg_group_b)\n",
        "print('mean(B) : ', np.round(eg_group_b.mean(),2))"
      ]
    },
    {
      "cell_type": "code",
      "execution_count": null,
      "id": "af6be242-604d-4958-9137-a345f3a8ccb3",
      "metadata": {
        "id": "af6be242-604d-4958-9137-a345f3a8ccb3"
      },
      "outputs": [],
      "source": [
        "# repeat the experiment multiple times\n",
        "no_times = 1000\n",
        "means_A = np.zeros(no_times)\n",
        "means_B = np.zeros(no_times)\n",
        "\n",
        "for i in range(no_times):\n",
        "    group_a, group_b = group_a, group_b\n",
        "    means_A[i] = np.round(group_a.mean(),2)\n",
        "    means_B[i] = np.round(group_b.mean(),2)"
      ]
    },
    {
      "cell_type": "code",
      "execution_count": null,
      "id": "5887da7a-f23d-42c6-981a-8bdd72897e7f",
      "metadata": {
        "colab": {
          "base_uri": "https://localhost:8080/"
        },
        "id": "5887da7a-f23d-42c6-981a-8bdd72897e7f",
        "outputId": "fc6953a7-9b1b-4b6a-f61d-3070f15d9339"
      },
      "outputs": [
        {
          "output_type": "stream",
          "name": "stdout",
          "text": [
            "mean(A) mean(B)\n",
            "1102.38  \t  822.37\n",
            "1102.38  \t  822.37\n",
            "1102.38  \t  822.37\n",
            "1102.38  \t  822.37\n",
            "1102.38  \t  822.37\n",
            "1102.38  \t  822.37\n",
            "1102.38  \t  822.37\n",
            "1102.38  \t  822.37\n",
            "1102.38  \t  822.37\n",
            "1102.38  \t  822.37\n"
          ]
        }
      ],
      "source": [
        "# print few examples\n",
        "print('mean(A) mean(B)')\n",
        "for i in range(10):\n",
        "    print(means_A[i], ' \\t ', means_B[i])"
      ]
    },
    {
      "cell_type": "code",
      "source": [
        "print('mu_A = ', np.round(means_A.mean(),2))\n",
        "print('std_A = ', np.round(group_a.std(),2))\n",
        "print('mu_B = ', np.round(means_B.mean(),2))\n",
        "print('std_B = ', np.round(group_b.std(),2))"
      ],
      "metadata": {
        "colab": {
          "base_uri": "https://localhost:8080/"
        },
        "id": "N_3RLFOPKIcv",
        "outputId": "14536def-2f69-4b89-b7d2-148758fa2f38"
      },
      "id": "N_3RLFOPKIcv",
      "execution_count": null,
      "outputs": [
        {
          "output_type": "stream",
          "name": "stdout",
          "text": [
            "mu_A =  1102.38\n",
            "std_A =  293.53\n",
            "mu_B =  822.37\n",
            "std_B =  553.93\n"
          ]
        }
      ]
    },
    {
      "cell_type": "code",
      "execution_count": null,
      "id": "6d91f2ee-3bfe-440f-a50f-23e2e3a18e75",
      "metadata": {
        "colab": {
          "base_uri": "https://localhost:8080/"
        },
        "id": "6d91f2ee-3bfe-440f-a50f-23e2e3a18e75",
        "outputId": "9ce8623f-b2b2-4887-f08d-89143139cb75"
      },
      "outputs": [
        {
          "output_type": "stream",
          "name": "stdout",
          "text": [
            "mu_A =  1102.38\n",
            "std_A =  293.53\n",
            "mu_B =  822.37\n",
            "std_B =  553.93\n"
          ]
        }
      ],
      "source": [
        "print('mu_A = ', np.round(means_A.mean(),2))\n",
        "print('std_A = ', np.round(np.std(group_a),2))\n",
        "print('mu_B = ', np.round(means_B.mean(),2))\n",
        "print('std_B = ', np.round(np.std(group_b),2))"
      ]
    },
    {
      "cell_type": "code",
      "execution_count": null,
      "id": "c8b60355-a3ba-454b-93b2-de6f637bf77a",
      "metadata": {
        "colab": {
          "base_uri": "https://localhost:8080/",
          "height": 282
        },
        "id": "c8b60355-a3ba-454b-93b2-de6f637bf77a",
        "outputId": "784ab1eb-ee74-4dbf-bdea-00df1edbae22"
      },
      "outputs": [
        {
          "output_type": "execute_result",
          "data": {
            "text/plain": [
              "<matplotlib.axes._subplots.AxesSubplot at 0x7fe2c8419640>"
            ]
          },
          "metadata": {},
          "execution_count": 10
        },
        {
          "output_type": "display_data",
          "data": {
            "text/plain": [
              "<Figure size 432x288 with 1 Axes>"
            ],
            "image/png": "[encoded data removed]"
          },
          "metadata": {
            "needs_background": "light"
          }
        }
      ],
      "source": [
        "sns.histplot({'A': means_A, 'B': means_B}, legend=True)"
      ]
    },
    {
      "cell_type": "code",
      "execution_count": null,
      "id": "170e8d03-1835-4bc1-81a7-c0421764d090",
      "metadata": {
        "colab": {
          "base_uri": "https://localhost:8080/"
        },
        "id": "170e8d03-1835-4bc1-81a7-c0421764d090",
        "outputId": "b8bb11a4-8060-46ac-c44d-da5aa61530cb"
      },
      "outputs": [
        {
          "output_type": "stream",
          "name": "stdout",
          "text": [
            "A       :  [ 700  800 1010 1500 1600 1299 1000 1000 1399  700 1200 1050  950  450\n",
            " 1350  999  900 1507 1099  950 1300  950 1200  850 1700 1199]\n",
            "mean(A) :  1102.38\n",
            "SE(A)   :  92.82\n",
            "B       :  [ 500 1000  550 1300 2500 1399 1395  500  500  400 1399  650  350  400\n",
            "  350  617  750  450  450  350  500 1299 1800  500  395  300 1600]\n",
            "mean(B) :  822.37\n",
            "SE(B)   :  175.17\n"
          ]
        }
      ],
      "source": [
        "# let's take into consideration this uncertainty in our estimate\n",
        "print('A       : ', eg_group_a)\n",
        "print('mean(A) : ', np.round(eg_group_a.mean(),2))\n",
        "print('SE(A)   : ', np.round(eg_group_a.std()/np.sqrt(10),2))\n",
        "print('B       : ', eg_group_b)\n",
        "print('mean(B) : ', np.round(eg_group_b.mean(),2))\n",
        "print('SE(B)   : ', np.round(eg_group_b.std()/np.sqrt(10),2))"
      ]
    },
    {
      "cell_type": "code",
      "source": [
        "# # are we now confident that mean(A) > mean(B)?\n",
        "df = pd.DataFrame({'group': ['A']*26+ ['B']*27,\n",
        "                  'time': np.concatenate([eg_group_a, eg_group_b])})\n",
        "sns.boxplot(data=df, x=\"group\", y=\"time\")"
      ],
      "metadata": {
        "id": "nS8z2lCGkc2I",
        "colab": {
          "base_uri": "https://localhost:8080/",
          "height": 296
        },
        "outputId": "e6bf4d8d-d3ae-4a6e-a605-14106abeb4b5"
      },
      "id": "nS8z2lCGkc2I",
      "execution_count": null,
      "outputs": [
        {
          "output_type": "execute_result",
          "data": {
            "text/plain": [
              "<matplotlib.axes._subplots.AxesSubplot at 0x7fe2c8479610>"
            ]
          },
          "metadata": {},
          "execution_count": 15
        },
        {
          "output_type": "display_data",
          "data": {
            "text/plain": [
              "<Figure size 432x288 with 1 Axes>"
            ],
            "image/png": "[encoded data removed]"
          },
          "metadata": {
            "needs_background": "light"
          }
        }
      ]
    },
    {
      "cell_type": "markdown",
      "source": [
        "Print the p-value and compare it with the significant level of 0.05 to determine whether to reject or not the null hypothesis like in the last part of the code shown in the class (AB test.ipynb Download AB test.ipynb). Remember to set the alternative in ttest_ind to 'larger' as we want to test mean(A) > mean(B)."
      ],
      "metadata": {
        "id": "AN7iDL_XlYsC"
      },
      "id": "AN7iDL_XlYsC"
    },
    {
      "cell_type": "code",
      "execution_count": null,
      "id": "0f930a90-d24d-406d-a68f-ac958bd8235b",
      "metadata": {
        "colab": {
          "base_uri": "https://localhost:8080/"
        },
        "id": "0f930a90-d24d-406d-a68f-ac958bd8235b",
        "outputId": "e44036e9-d6f6-44e0-ffb8-f6213078cb2e"
      },
      "outputs": [
        {
          "output_type": "stream",
          "name": "stdout",
          "text": [
            "p-value: 0.014421426886973576\n",
            "The ATE is statistically significant.\n"
          ]
        }
      ],
      "source": [
        "# Perform the t-test\n",
        "#\n",
        "# alternative='smaller' means\n",
        "#        mean(A) < mean(B)\n",
        "#\n",
        "# alternative='larger' means\n",
        "group_a.mean() > group_b.mean()\n",
        "#\n",
        "# alternative='two-sided' means\n",
        "#        mean(A) <> mean(B)\n",
        "#\n",
        "tstat, p, _ = ttest_ind(eg_group_a, eg_group_b, alternative='larger', usevar='unequal') ##### Alternative Change with Larger\n",
        "\n",
        "# Print the results\n",
        "print(\"p-value:\", p)\n",
        "\n",
        "# Check if the p-value is less than a threshold (e.g. 0.05)\n",
        "if p < 0.05:\n",
        "    print(\"The ATE is statistically significant.\")\n",
        "else:\n",
        "    print(\"The ATE is not statistically significant.\")"
      ]
    },
    {
      "cell_type": "code",
      "execution_count": null,
      "id": "c4716587-1f7e-4e13-96f1-aa165c20939e",
      "metadata": {
        "id": "c4716587-1f7e-4e13-96f1-aa165c20939e"
      },
      "outputs": [],
      "source": [
        "# # the results says that mean(B) is not statistically higher than the mean(A)\n",
        "#  (A - control & B - treatment)"
      ]
    },
    {
      "cell_type": "markdown",
      "source": [
        "Print the mean average of prices for group_a and group_b. Write a comment whether the anchoring bias works. In other words, does showing the current bid of $395 results in statistically significant lower offers in average for the laptop?"
      ],
      "metadata": {
        "id": "fFat4z0AdmvD"
      },
      "id": "fFat4z0AdmvD"
    },
    {
      "cell_type": "code",
      "execution_count": null,
      "id": "4ddc5d0c-8e5c-471c-a757-1790b4ce52de",
      "metadata": {
        "id": "4ddc5d0c-8e5c-471c-a757-1790b4ce52de",
        "colab": {
          "base_uri": "https://localhost:8080/"
        },
        "outputId": "3e388fde-97c7-42bd-bd19-1d227ca50782"
      },
      "outputs": [
        {
          "output_type": "stream",
          "name": "stdout",
          "text": [
            "mean avearage of Group A :  1102.38\n",
            "mean avearage of Broup B :  822.37\n"
          ]
        }
      ],
      "source": [
        "print('mean avearage of Group A : ', np.round(eg_group_a.mean(),2))\n",
        "print('mean avearage of Broup B : ', np.round(eg_group_b.mean(),2))"
      ]
    },
    {
      "cell_type": "markdown",
      "source": [
        "**Answer** Anchoring bias works.\n",
        "Its True that showing the current bid of $395 results in statistically significant lower offers in average for the laptop"
      ],
      "metadata": {
        "id": "P4OKp4PWd6Yz"
      },
      "id": "P4OKp4PWd6Yz"
    }
  ],
  "metadata": {
    "kernelspec": {
      "display_name": "Python 3 (ipykernel)",
      "language": "python",
      "name": "python3"
    },
    "language_info": {
      "codemirror_mode": {
        "name": "ipython",
        "version": 3
      },
      "file_extension": ".py",
      "mimetype": "text/x-python",
      "name": "python",
      "nbconvert_exporter": "python",
      "pygments_lexer": "ipython3",
      "version": "3.7.11"
    },
    "colab": {
      "provenance": []
    }
  },
  "nbformat": 4,
  "nbformat_minor": 5
}